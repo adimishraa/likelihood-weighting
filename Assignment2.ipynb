{
 "cells": [
  {
   "cell_type": "code",
   "execution_count": 1,
   "metadata": {},
   "outputs": [],
   "source": [
    "import numpy as np\n",
    "from matplotlib import pyplot as plt\n",
    "import random"
   ]
  },
  {
   "cell_type": "code",
   "execution_count": 2,
   "metadata": {},
   "outputs": [],
   "source": [
    "list=[0,1]\n",
    "\n"
   ]
  },
  {
   "cell_type": "code",
   "execution_count": 4,
   "metadata": {},
   "outputs": [],
   "source": [
    "Z=128\n",
    "pos=[1,4,7,9]\n",
    "pZgB=0\n",
    "num=0\n",
    "den=0\n",
    "N=10\n",
    "bitlist=[0,1]\n",
    "formula=((1-alpha)/(1+alpha))*(alpha**(abs(Z-bval)))"
   ]
  },
  {
   "cell_type": "code",
   "execution_count": 5,
   "metadata": {},
   "outputs": [],
   "source": [
    "#order of a 10 bit byte (generates 10 bits nuber every iteration)\n",
    "def byteOrder(bitlist,pos):\n",
    "    bits=[]\n",
    "    for i in range(0,10):\n",
    "        bits.append(random.choice(list))\n",
    "    return bits\n",
    "#converts binary to decimal\n",
    "def evalbin(bits):\n",
    "    bval=0\n",
    "    p=0\n",
    "    for i in range(0,10):\n",
    "        p=2**i\n",
    "        bval+=p*bits[i]\n",
    "    return bval"
   ]
  },
  {
   "cell_type": "code",
   "execution_count": 7,
   "metadata": {},
   "outputs": [],
   "source": [
    "Z=128\n",
    "alpha=0.1\n",
    "pBgZ=0\n",
    "N=1000000\n",
    "#evaluates the conditional probability\n",
    "def ForEachPos(Z,alpha,pBgZ,N,pos):\n",
    "    num=0\n",
    "    den=0\n",
    "    for i in range(0,N):\n",
    "        bits=byteOrder(bitlist,pos)\n",
    "        #print(bits)\n",
    "        bval=evalbin(bits)\n",
    "        pZgB=((1-alpha)/(1+alpha))*(alpha**(abs(Z-bval)))\n",
    "        #print(pZgB)\n",
    "        den+=pZgB\n",
    "        #print(den)\n",
    "        if(bits[pos]==1):\n",
    "            num+=pZgB\n",
    "    pBgZ=num/den\n",
    "    return float(pBgZ)\n"
   ]
  },
  {
   "cell_type": "code",
   "execution_count": 9,
   "metadata": {},
   "outputs": [],
   "source": [
    "num=0\n",
    "den=0\n",
    "Z=128\n",
    "pBgZ=0\n",
    "alpha=0.1\n",
    "pos=[1,4,7,9]\n",
    "iterations=[1.0e6*round(i,2) for i in np.arange(1,1.7,0.1)]\n",
    "plt_answers=np.zeros([4,7])\n",
    "for ipos,ps in enumerate(pos):\n",
    "    for j,itr in enumerate(iterations):\n",
    "        pBgZ=0\n",
    "        plt_answers[ipos,j]=ForEachPos(Z,alpha,pBgZ,np.int(itr),ps)"
   ]
  },
  {
   "cell_type": "code",
   "execution_count": 10,
   "metadata": {},
   "outputs": [
    {
     "name": "stdout",
     "output_type": "stream",
     "text": [
      "[[0.10130724 0.1035742  0.09434209 0.09687299 0.09676475 0.10078879\n",
      "  0.09728133]\n",
      " [0.09328763 0.09221675 0.08840225 0.0927822  0.08938912 0.09136275\n",
      "  0.08895219]\n",
      " [0.9063599  0.90444988 0.9040241  0.90806362 0.90706391 0.90914615\n",
      "  0.90905516]\n",
      " [0.         0.         0.         0.         0.         0.\n",
      "  0.        ]]\n"
     ]
    }
   ],
   "source": [
    "print(plt_answers)"
   ]
  },
  {
   "cell_type": "code",
   "execution_count": 19,
   "metadata": {},
   "outputs": [
    {
     "name": "stderr",
     "output_type": "stream",
     "text": [
      "C:\\Users\\mishr\\AppData\\Local\\Continuum\\anaconda3\\lib\\site-packages\\ipykernel_launcher.py:3: UserWarning: Matplotlib is currently using module://ipykernel.pylab.backend_inline, which is a non-GUI backend, so cannot show the figure.\n",
      "  This is separate from the ipykernel package so we can avoid doing imports until\n"
     ]
    },
    {
     "data": {
      "image/png": "[encoded data removed]",
      "text/plain": [
       "<Figure size 432x288 with 1 Axes>"
      ]
     },
     "metadata": {
      "needs_background": "light"
     },
     "output_type": "display_data"
    }
   ],
   "source": [
    "itrval=[x/1e6 for x in iterations]\n",
    "fig=plt.figure()\n",
    "fig.show()\n",
    "ax=fig.add_subplot(111)\n",
    "\n",
    "ax.plot(itrval,plt_answers[0,:],c='b',marker=\"^\",ls='--',label='i=2')\n",
    "ax.plot(itrval,plt_answers[1,:],c='g',marker=(8,2,0),ls='--',label='i=5')\n",
    "ax.plot(itrval,plt_answers[2,:],c='k',ls='-',label='i=8')\n",
    "ax.plot(itrval,plt_answers[3,:],c='r',marker=\"v\",ls='-',label='i=10')\n",
    "plt.title('Estimates as a function of number of samples')\n",
    "plt.xlabel('No. of samples (in millions)')\n",
    "plt.ylabel('Estimate value P(Bi=1|Z=128)')\n",
    "plt.legend(loc=5)\n",
    "plt.draw()\n",
    "plt.savefig('a2plot.png')"
   ]
  },
  {
   "cell_type": "code",
   "execution_count": null,
   "metadata": {},
   "outputs": [],
   "source": []
  }
 ],
 "metadata": {
  "kernelspec": {
   "display_name": "Python 3",
   "language": "python",
   "name": "python3"
  },
  "language_info": {
   "codemirror_mode": {
    "name": "ipython",
    "version": 3
   },
   "file_extension": ".py",
   "mimetype": "text/x-python",
   "name": "python",
   "nbconvert_exporter": "python",
   "pygments_lexer": "ipython3",
   "version": "3.7.3"
  }
 },
 "nbformat": 4,
 "nbformat_minor": 2
}
